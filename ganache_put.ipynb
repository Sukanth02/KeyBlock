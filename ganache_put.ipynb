{
 "cells": [
  {
   "cell_type": "code",
   "execution_count": 6,
   "metadata": {},
   "outputs": [],
   "source": [
    "from web3 import Web3\n",
    "import numpy as np"
   ]
  },
  {
   "cell_type": "code",
   "execution_count": 23,
   "metadata": {},
   "outputs": [
    {
     "data": {
      "text/plain": [
       "True"
      ]
     },
     "execution_count": 23,
     "metadata": {},
     "output_type": "execute_result"
    }
   ],
   "source": [
    "ganache_url = 'HTTP://127.0.0.1:7545'\n",
    "web3 = Web3 (Web3.HTTPProvider (ganache_url))\n",
    "account_1 = '0x4e0c45aFd0aD18692024d204711D45041B84b2f1'\n",
    "private_key1 = '0x256fbfb9fb605d02d130e4d8ae25c6d8a1b0e426e1c053134b6403fa314f98d5'\n",
    "account_2 = '0x171558E55AD5E57CbE614EF9F4BBE3bC0Da036Fb'\n",
    "private_key2 = '0xdebccc7907830f26ddeab29d2547bcd32562a1f69c3fa17df2c59fc2d586cbf4'\n",
    "web3.is_connected ()"
   ]
  },
  {
   "cell_type": "code",
   "execution_count": 40,
   "metadata": {},
   "outputs": [
    {
     "name": "stdout",
     "output_type": "stream",
     "text": [
      "transaction hash 0x7d1a69950446ae98efd6e4d54761888e8eb6fb45bf0541d1715aeebfceedc779\n",
      "block numbers:  13\n"
     ]
    }
   ],
   "source": [
    "#send trx from acc2 to acc1\n",
    "#get the nonce. Prevents one from sending the transaction twice\n",
    "nonce = web3.eth.get_transaction_count (account_2)\n",
    "#build a transaction in a dictionary\n",
    "# tx = {\n",
    "# 'nonce': nonce,\n",
    "# 'to': account_1,\n",
    "# 'value': web3.to_wei (3, 'ether'), # One ther = 1,000,000,000,000,000,000 wei (10e18)\n",
    "# 'gas': 200000,\n",
    "# 'gasPrice': web3.to_wei ('50', 'gwei')\n",
    "# }\n",
    "message = \"\"\n",
    "tx = {\n",
    "    'nonce': nonce,\n",
    "    'to': account_1,\n",
    "    'value': web3.to_wei(3, 'ether'),\n",
    "    'gas': 200000,\n",
    "    'gasPrice': web3.to_wei('50', 'gwei'),\n",
    "    'data': message.encode('ascii'),\n",
    "}\n",
    "\n",
    "#sign the transaction\n",
    "signed_tx = web3.eth.account.sign_transaction (tx, private_key2)\n",
    "#send transaction\n",
    "tx_hash = web3.eth.send_raw_transaction (signed_tx.rawTransaction)\n",
    "#get transaction hash\n",
    "print(\"transaction hash\", web3.to_hex(tx_hash))\n",
    "# print the latest block number\n",
    "print(\"block numbers: \",web3.eth.block_number)\n",
    "#nonce"
   ]
  }
 ],
 "metadata": {
  "kernelspec": {
   "display_name": "Python 3",
   "language": "python",
   "name": "python3"
  },
  "language_info": {
   "codemirror_mode": {
    "name": "ipython",
    "version": 3
   },
   "file_extension": ".py",
   "mimetype": "text/x-python",
   "name": "python",
   "nbconvert_exporter": "python",
   "pygments_lexer": "ipython3",
   "version": "3.9.6"
  },
  "orig_nbformat": 4
 },
 "nbformat": 4,
 "nbformat_minor": 2
}
